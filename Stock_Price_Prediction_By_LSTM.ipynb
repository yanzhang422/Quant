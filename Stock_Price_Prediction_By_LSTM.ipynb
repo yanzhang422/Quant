{
  "nbformat": 4,
  "nbformat_minor": 0,
  "metadata": {
    "colab": {
      "name": "Stock Price Prediction By LSTM.ipynb",
      "provenance": [],
      "authorship_tag": "ABX9TyOQ4OlX40yYzhkkGkmFJtKy",
      "include_colab_link": true
    },
    "kernelspec": {
      "name": "python3",
      "display_name": "Python 3"
    }
  },
  "cells": [
    {
      "cell_type": "markdown",
      "metadata": {
        "id": "view-in-github",
        "colab_type": "text"
      },
      "source": [
        "<a href=\"https://colab.research.google.com/github/yanzhang422/Quant/blob/master/Stock_Price_Prediction_By_LSTM.ipynb\" target=\"_parent\"><img src=\"https://colab.research.google.com/assets/colab-badge.svg\" alt=\"Open In Colab\"/></a>"
      ]
    },
    {
      "cell_type": "code",
      "metadata": {
        "id": "JKw3YL0dKLpb"
      },
      "source": [
        "import numpy as np\r\n",
        "import matplotlib.pyplot as plt\r\n",
        "import pandas as pd\r\n",
        "import pandas_datareader as web\r\n",
        "import datetime as dt\r\n",
        "\r\n",
        "from sklearn.preprocessing import MinMaxScaler\r\n",
        "from tensorflow.keras.models import Sequential\r\n",
        "from tensorflow.keras.layers import Dense, Dropout, LSTM"
      ],
      "execution_count": 30,
      "outputs": []
    },
    {
      "cell_type": "code",
      "metadata": {
        "id": "eGeBEGQmLF23"
      },
      "source": [
        "# Load Data\r\n",
        "company = 'BABA'\r\n",
        "\r\n",
        "start = dt.datetime (2012, 1, 1)\r\n",
        "end = dt.datetime (2020,1,1)\r\n",
        "\r\n",
        "data = web.DataReader(company, 'yahoo', start, end)"
      ],
      "execution_count": 31,
      "outputs": []
    },
    {
      "cell_type": "code",
      "metadata": {
        "id": "HN5viyXZLNI8"
      },
      "source": [
        "# Prepare Data\r\n",
        "scaler = MinMaxScaler(feature_range=(0,1))\r\n",
        "scaled_data = scaler.fit_transform(data['Close'].values.reshape(-1,1))\r\n",
        "\r\n",
        "prediction_days = 60\r\n",
        "\r\n",
        "x_train = []\r\n",
        "y_train = []\r\n",
        "\r\n",
        "for x in range (prediction_days, len(scaled_data)):\r\n",
        "    x_train.append(scaled_data[x-prediction_days:x,0])\r\n",
        "    y_train.append(scaled_data[x,0])\r\n",
        "\r\n",
        "x_train, y_train = np.array(x_train), np.array(y_train)\r\n",
        "x_train = np.reshape(x_train, (x_train.shape[0], x_train.shape[1], 1))"
      ],
      "execution_count": 32,
      "outputs": []
    },
    {
      "cell_type": "code",
      "metadata": {
        "colab": {
          "base_uri": "https://localhost:8080/"
        },
        "id": "GttooWzORcoJ",
        "outputId": "3d73ff75-0fd1-422a-f2ec-29ffca875a9a"
      },
      "source": [
        "#Build The Model\r\n",
        "model = Sequential()\r\n",
        "\r\n",
        "model.add(LSTM(units=50, return_sequences=True, input_shape=(x_train.shape[1], 1)))\r\n",
        "model.add(Dropout(0.2))\r\n",
        "model.add(LSTM(units=50, return_sequences=True))\r\n",
        "model.add(Dropout(0.2))\r\n",
        "model.add(LSTM(units=50))\r\n",
        "model.add(Dropout(0.2))\r\n",
        "model.add(Dense(units=1)) # Prediction of the next closing value\r\n",
        "\r\n",
        "model.compile(optimizer='adam', loss='mean_squared_error')\r\n",
        "model.fit(x_train, y_train, epochs=25, batch_size=32)"
      ],
      "execution_count": 33,
      "outputs": [
        {
          "output_type": "stream",
          "text": [
            "Epoch 1/25\n",
            "40/40 [==============================] - 8s 80ms/step - loss: 0.0756\n",
            "Epoch 2/25\n",
            "40/40 [==============================] - 3s 81ms/step - loss: 0.0068\n",
            "Epoch 3/25\n",
            "40/40 [==============================] - 3s 82ms/step - loss: 0.0057\n",
            "Epoch 4/25\n",
            "40/40 [==============================] - 3s 83ms/step - loss: 0.0046\n",
            "Epoch 5/25\n",
            "40/40 [==============================] - 3s 82ms/step - loss: 0.0048\n",
            "Epoch 6/25\n",
            "40/40 [==============================] - 3s 83ms/step - loss: 0.0050\n",
            "Epoch 7/25\n",
            "40/40 [==============================] - 3s 85ms/step - loss: 0.0049\n",
            "Epoch 8/25\n",
            "40/40 [==============================] - 3s 84ms/step - loss: 0.0041\n",
            "Epoch 9/25\n",
            "40/40 [==============================] - 3s 84ms/step - loss: 0.0036\n",
            "Epoch 10/25\n",
            "40/40 [==============================] - 3s 84ms/step - loss: 0.0038\n",
            "Epoch 11/25\n",
            "40/40 [==============================] - 3s 83ms/step - loss: 0.0037\n",
            "Epoch 12/25\n",
            "40/40 [==============================] - 3s 86ms/step - loss: 0.0041\n",
            "Epoch 13/25\n",
            "40/40 [==============================] - 3s 84ms/step - loss: 0.0041\n",
            "Epoch 14/25\n",
            "40/40 [==============================] - 3s 85ms/step - loss: 0.0031\n",
            "Epoch 15/25\n",
            "40/40 [==============================] - 3s 85ms/step - loss: 0.0038\n",
            "Epoch 16/25\n",
            "40/40 [==============================] - 3s 84ms/step - loss: 0.0040\n",
            "Epoch 17/25\n",
            "40/40 [==============================] - 3s 85ms/step - loss: 0.0038\n",
            "Epoch 18/25\n",
            "40/40 [==============================] - 3s 84ms/step - loss: 0.0032\n",
            "Epoch 19/25\n",
            "40/40 [==============================] - 3s 84ms/step - loss: 0.0032\n",
            "Epoch 20/25\n",
            "40/40 [==============================] - 3s 83ms/step - loss: 0.0030\n",
            "Epoch 21/25\n",
            "40/40 [==============================] - 3s 85ms/step - loss: 0.0034\n",
            "Epoch 22/25\n",
            "40/40 [==============================] - 4s 104ms/step - loss: 0.0037\n",
            "Epoch 23/25\n",
            "40/40 [==============================] - 4s 93ms/step - loss: 0.0030\n",
            "Epoch 24/25\n",
            "40/40 [==============================] - 3s 87ms/step - loss: 0.0029\n",
            "Epoch 25/25\n",
            "40/40 [==============================] - 3s 85ms/step - loss: 0.0033\n"
          ],
          "name": "stdout"
        },
        {
          "output_type": "execute_result",
          "data": {
            "text/plain": [
              "<tensorflow.python.keras.callbacks.History at 0x7fe208da4d90>"
            ]
          },
          "metadata": {
            "tags": []
          },
          "execution_count": 33
        }
      ]
    },
    {
      "cell_type": "code",
      "metadata": {
        "id": "El2we-9QSsD-"
      },
      "source": [
        "'''Test The Model Accuracy on Existing Data '''\r\n",
        "# Load Test Data\r\n",
        "test_start = dt.datetime(2020,1,1)\r\n",
        "test_end = dt.datetime.now()\r\n",
        "\r\n",
        "test_data = web.DataReader(company, 'yahoo', test_start, test_end)\r\n",
        "actual_prices = test_data['Close'].values\r\n",
        "\r\n",
        "total_dataset = pd.concat((data['Close'], test_data['Close']), axis=0)\r\n",
        "\r\n",
        "model_inputs = total_dataset[len(total_dataset) - len(test_data) - prediction_days:].values\r\n",
        "model_inputs = model_inputs.reshape(-1, 1)\r\n",
        "model_inputs = scaler.transform(model_inputs)"
      ],
      "execution_count": 34,
      "outputs": []
    },
    {
      "cell_type": "code",
      "metadata": {
        "id": "WwjXi_3ptzI9"
      },
      "source": [
        "# Make Predictions on Test Data\r\n",
        "\r\n",
        "x_test = []\r\n",
        "\r\n",
        "for x in range(prediction_days, len(model_inputs)):\r\n",
        "    x_test.append(model_inputs[x-prediction_days:x, 0])\r\n",
        "\r\n",
        "x_test = np.array(x_test)\r\n",
        "x_test = np.reshape(x_test, (x_test.shape[0], x_test.shape[1], 1))\r\n",
        "\r\n",
        "predicted_prices = model.predict(x_test)\r\n",
        "predicted_prices = scaler.inverse_transform(predicted_prices)"
      ],
      "execution_count": 35,
      "outputs": []
    },
    {
      "cell_type": "code",
      "metadata": {
        "colab": {
          "base_uri": "https://localhost:8080/",
          "height": 295
        },
        "id": "N-A8qOvIuerI",
        "outputId": "377ea44f-b184-4496-d6fb-7091ee43066c"
      },
      "source": [
        "# Plot The Test Predictions\r\n",
        "plt.plot(actual_prices, color=\"black\", label=f\"Actual {company} Price\")\r\n",
        "plt.plot(predicted_prices, color=\"green\", label=f\"Predicted {company} Price\") \r\n",
        "plt.title(f\"{company} Share Price\")\r\n",
        "plt.xlabel('Time')\r\n",
        "plt.ylabel(f'{company} Share Price')\r\n",
        "plt.legend()\r\n",
        "plt.show()"
      ],
      "execution_count": 36,
      "outputs": [
        {
          "output_type": "display_data",
          "data": {
            "image/png": "[encoded data removed]",
            "text/plain": [
              "<Figure size 432x288 with 1 Axes>"
            ]
          },
          "metadata": {
            "tags": [],
            "needs_background": "light"
          }
        }
      ]
    },
    {
      "cell_type": "code",
      "metadata": {
        "colab": {
          "base_uri": "https://localhost:8080/"
        },
        "id": "MaX4LGp_vtfx",
        "outputId": "6a7f2704-93ea-4b34-b963-a28a96caca0d"
      },
      "source": [
        "#Predict Next Day\r\n",
        "real_data = [model_inputs[len(model_inputs) + 1 - prediction_days:len(model_inputs+1), 0]]\r\n",
        "real_data = np.array(real_data)\r\n",
        "real_data = np.reshape(real_data, (real_data.shape[0], real_data.shape[1], 1))\r\n",
        "\r\n",
        "# print(scaler.inverse_transform(real_data[-1]))\r\n",
        "\r\n",
        "prediction = model.predict(real_data)\r\n",
        "prediction = scaler.inverse_transform(prediction)\r\n",
        "print(f\"Prediction:{prediction}\")"
      ],
      "execution_count": 37,
      "outputs": [
        {
          "output_type": "stream",
          "text": [
            "WARNING:tensorflow:Model was constructed with shape (None, 60, 1) for input KerasTensor(type_spec=TensorSpec(shape=(None, 60, 1), dtype=tf.float32, name='lstm_6_input'), name='lstm_6_input', description=\"created by layer 'lstm_6_input'\"), but it was called on an input with incompatible shape (None, 59, 1).\n",
            "Prediction:[[237.78444]]\n"
          ],
          "name": "stdout"
        }
      ]
    }
  ]
}